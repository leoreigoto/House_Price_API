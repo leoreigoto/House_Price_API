{
 "cells": [
  {
   "cell_type": "code",
   "execution_count": 11,
   "id": "13be7bf5",
   "metadata": {},
   "outputs": [],
   "source": [
    "import requests\n",
    "import os\n",
    "from pathlib import Path\n",
    "from dotenv import load_dotenv\n",
    "\n",
    "#need to update client_keys.env whenever the server key is changed\n",
    "key_path=  Path('client_key') /'client_keys.env'\n",
    "load_dotenv(key_path)\n",
    "header_key = 'House-Price-API-KEY' \n",
    "api_key = os.getenv('HOUSE_API_Key')\n",
    "\n",
    "header_HOUSE_API = {header_key: api_key}\n",
    "\n",
    "# Define the base URL\n",
    "BASE_URL = 'http://127.0.0.1:8000'"
   ]
  },
  {
   "cell_type": "markdown",
   "id": "7cbc4ef1",
   "metadata": {},
   "source": [
    "# Test /health endpoint\n",
    "\n",
    "expected response: json with status \"ok\"\n",
    "\n",
    "should generate a generic logger on server side"
   ]
  },
  {
   "cell_type": "code",
   "execution_count": 12,
   "id": "9b9c818d",
   "metadata": {
    "scrolled": true
   },
   "outputs": [
    {
     "name": "stdout",
     "output_type": "stream",
     "text": [
      "Making health request\n",
      "Response:  {'success': True, 'endpoint': 'health', 'data': {'API status': 'online'}}\n"
     ]
    }
   ],
   "source": [
    "print('Making health request')\n",
    "response = requests.get(url = f'{BASE_URL}/health',headers=header_HOUSE_API)\n",
    "print ('Response: ',response.json())"
   ]
  },
  {
   "cell_type": "markdown",
   "id": "b62ac25c",
   "metadata": {},
   "source": [
    "# Testing /predict endpoint\n",
    "\n",
    "- single predict\n",
    "\n",
    "expected reponse : json with house price\n",
    "\n",
    "- batch with 2 predictions\n",
    "\n",
    "expected reponse : json with 2 houses prices\n",
    "\n",
    "- single predict with abnormal metrics (n_rooms = 3)\n",
    "\n",
    "expected reponse : json with house price + metrics logger on server side pointing anomaly\n",
    "\n",
    "all requests above also produces generic logger info on server side\n",
    "\n",
    "if pred_history logger is enabled (need to comply with privacy settings) it also produces pred_history info logs (input + output + model info)\n",
    "\n"
   ]
  },
  {
   "cell_type": "code",
   "execution_count": 13,
   "id": "c3209bdf",
   "metadata": {},
   "outputs": [
    {
     "name": "stdout",
     "output_type": "stream",
     "text": [
      "Making prediction request of a single house\n",
      "Response:  {'success': True, 'endpoint': 'predict', 'data': {'price': [23964.962250699562]}}\n",
      "Making prediction request of a batch with 2 houses\n",
      "Response:  {'success': True, 'endpoint': 'predict', 'data': {'price': [18650.30407076638, 19365.280316261164]}}\n",
      "Making prediction request of a single house with n_rooms = -3 - should get a anomaly logger on server side\n",
      "Response:  {'success': True, 'endpoint': 'predict', 'data': {'price': [23510.520496190584]}}\n"
     ]
    }
   ],
   "source": [
    "### Test predict request\n",
    "\n",
    "## Test single request\n",
    "print('Making prediction request of a single house')\n",
    "body=[{\n",
    "     \"type\":\"casa\",\n",
    "    \"sector\":\"vitacura\",\n",
    "    \"net_usable_area\":402.0,\n",
    "    \"net_area\":257.0,\n",
    "    \"n_rooms\":5.0,\n",
    "    \"n_bathroom\":2.0,\n",
    "    \"latitude\":43.7894,\n",
    "    \"longitude\":-105.5837,\n",
    "\n",
    "}]\n",
    "response = requests.post(url = f'{BASE_URL}/predict',\n",
    "              json = body, headers=header_HOUSE_API)\n",
    "print ('Response: ',response.json())\n",
    "\n",
    "#Test batch of requests\n",
    "print('Making prediction request of a batch with 2 houses')\n",
    "body=[{\n",
    "    \"type\":\"casa\",\n",
    "    \"sector\":\"vitacura\",\n",
    "    \"net_usable_area\":183.0,\n",
    "    \"net_area\":450.0,\n",
    "    \"n_rooms\":4.0,\n",
    "    \"n_bathroom\":3.0,\n",
    "    \"latitude\":91.8394,\n",
    "    \"longitude\":-80.5447,\n",
    "\n",
    "},\n",
    "{\n",
    "    \"type\":\"departamento\",\n",
    "    \"sector\":\"condes\",\n",
    "    \"net_usable_area\":230.0,\n",
    "    \"net_area\":270.0,\n",
    "    \"n_rooms\":5.0,\n",
    "    \"n_bathroom\":2.0,\n",
    "    \"latitude\":43.4235,\n",
    "    \"longitude\":50.58,\n",
    "   \n",
    "}]\n",
    "\n",
    "response = requests.post(url = f'{BASE_URL}/predict',\n",
    "              json = body, headers=header_HOUSE_API)\n",
    "print ('Response: ',response.json())\n",
    "\n",
    "\n",
    "print('Making prediction request of a single house with n_rooms = -3 - should get a anomaly logger on server side')\n",
    "body=[{\n",
    "     \"type\":\"casa\",\n",
    "    \"sector\":\"vitacura\",\n",
    "    \"net_usable_area\":383.0,\n",
    "    \"net_area\":250.0,\n",
    "    \"n_rooms\":7.0,\n",
    "    \"n_bathroom\":-3.0,\n",
    "    \"latitude\":121.8394,\n",
    "    \"longitude\":-130.5447,\n",
    "\n",
    "}]\n",
    "response = requests.post(url = f'{BASE_URL}/predict',\n",
    "              json = body, headers=header_HOUSE_API)\n",
    "print ('Response: ',response.json())\n",
    "\n",
    "\n"
   ]
  },
  {
   "cell_type": "code",
   "execution_count": 14,
   "id": "3a344ae2",
   "metadata": {},
   "outputs": [
    {
     "name": "stdout",
     "output_type": "stream",
     "text": [
      "Making prediction missing type value. type is an obrigatory field.\n",
      "Response:  {'detail': [{'type': 'string_type', 'loc': ['body', 0, 'type'], 'msg': 'Input should be a valid string', 'input': None, 'url': 'https://errors.pydantic.dev/2.5/v/string_type'}]}\n"
     ]
    }
   ],
   "source": [
    "print('Making prediction missing type value. type is an obrigatory field.')\n",
    "body=[{\n",
    "     \"type\":None,\n",
    "    \"sector\":\"vitacura\",\n",
    "    \"net_usable_area\":152.0,\n",
    "    \"net_area\":200,\n",
    "    \"n_rooms\":-3.0,\n",
    "    \"n_bathroom\":4.0,\n",
    "    \"latitude\":53.3794,\n",
    "    \"longitude\":-80.5447,\n",
    "\n",
    "}]\n",
    "response = requests.post(url = f'{BASE_URL}/predict',\n",
    "              json = body, headers=header_HOUSE_API)\n",
    "print ('Response: ',response.json())"
   ]
  },
  {
   "cell_type": "code",
   "execution_count": 15,
   "id": "aae65187",
   "metadata": {},
   "outputs": [
    {
     "name": "stdout",
     "output_type": "stream",
     "text": [
      "Making prediction missing net_area value. Net_area is an optional field\n",
      "Response:  {'success': True, 'endpoint': 'predict', 'data': {'price': [30461.51050397201]}}\n"
     ]
    }
   ],
   "source": [
    "print('Making prediction missing net_area value. Net_area is an optional field')\n",
    "body=[{\n",
    "     \"type\":\"casa\",\n",
    "    \"sector\":\"vitacura\",\n",
    "    \"net_usable_area\":383.0,\n",
    "    \"net_area\":None,\n",
    "    \"n_rooms\":7.0,\n",
    "    \"n_bathroom\":-3.0,\n",
    "    \"latitude\":121.8394,\n",
    "    \"longitude\":-130.5447,\n",
    "\n",
    "}]\n",
    "response = requests.post(url = f'{BASE_URL}/predict',\n",
    "              json = body, headers=header_HOUSE_API)\n",
    "print ('Response: ',response.json())"
   ]
  },
  {
   "cell_type": "markdown",
   "id": "e9a6dfbe",
   "metadata": {},
   "source": [
    "# Testing /info endpoint\n",
    "\n",
    "expected response: json with model name, version, filename and last_edited date"
   ]
  },
  {
   "cell_type": "code",
   "execution_count": 16,
   "id": "66e5bfdd",
   "metadata": {},
   "outputs": [
    {
     "name": "stdout",
     "output_type": "stream",
     "text": [
      "Making info request\n",
      "Response:  {'success': True, 'endpoint': 'info', 'data': {'name': 'House_Price', 'version': '1', 'alias': 'production'}}\n"
     ]
    }
   ],
   "source": [
    "print('Making info request')\n",
    "response = requests.get(url = f'{BASE_URL}/info',headers=header_HOUSE_API)\n",
    "print ('Response: ',response.json())"
   ]
  },
  {
   "cell_type": "code",
   "execution_count": null,
   "id": "0f1ecb6e",
   "metadata": {},
   "outputs": [],
   "source": []
  },
  {
   "cell_type": "code",
   "execution_count": null,
   "id": "433a21e9",
   "metadata": {},
   "outputs": [],
   "source": []
  }
 ],
 "metadata": {
  "kernelspec": {
   "display_name": "Python 3 (ipykernel)",
   "language": "python",
   "name": "python3"
  },
  "language_info": {
   "codemirror_mode": {
    "name": "ipython",
    "version": 3
   },
   "file_extension": ".py",
   "mimetype": "text/x-python",
   "name": "python",
   "nbconvert_exporter": "python",
   "pygments_lexer": "ipython3",
   "version": "3.11.5"
  }
 },
 "nbformat": 4,
 "nbformat_minor": 5
}
